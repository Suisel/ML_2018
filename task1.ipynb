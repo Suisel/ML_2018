{
 "cells": [
  {
   "cell_type": "code",
   "execution_count": 77,
   "metadata": {},
   "outputs": [],
   "source": [
    "import sklearn\n",
    "import pandas as pd\n",
    "import numpy as np\n",
    "from sklearn.model_selection import train_test_split\n",
    "from sklearn.neighbors import KNeighborsClassifier\n",
    "from sklearn.model_selection import GridSearchCV\n",
    "from sklearn.metrics import f1_score\n",
    "import matplotlib.pyplot as plt\n",
    "from sklearn import metrics"
   ]
  },
  {
   "cell_type": "code",
   "execution_count": null,
   "metadata": {},
   "outputs": [],
   "source": [
    "data = pd.read_csv(\"https://archive.ics.uci.edu/ml/machine-learning-databases/semeion/semeion.data\",/\n",
    "                   header=None, sep=' ')\n",
    "data.head(10)"
   ]
  },
  {
   "cell_type": "code",
   "execution_count": 45,
   "metadata": {},
   "outputs": [],
   "source": [
    "handwritten_digits = data.loc[:, 0 : 255]\n",
    "result_digits = data.loc[:, 256 : 266].apply(lambda row: row.idxmax() % 256, axis=1)"
   ]
  },
  {
   "cell_type": "code",
   "execution_count": 118,
   "metadata": {},
   "outputs": [
    {
     "name": "stdout",
     "output_type": "stream",
     "text": [
      "[5]\n"
     ]
    }
   ],
   "source": [
    "i = np.random.randint(0, len(handwritten_digits), 1)\n",
    "print(result_digits.loc[i].values)\n",
    "plt.imshow(handwritten_digits.loc[i].values.reshape((16,16)), cmap = \"Set1\")\n",
    "plt.show()"
   ]
  },
  {
   "cell_type": "markdown",
   "metadata": {},
   "source": []
  },
  {
   "cell_type": "code",
   "execution_count": 96,
   "metadata": {},
   "outputs": [],
   "source": [
    "hw_train, hw_test, res_train, res_test = train_test_split(handwritten_digits, result_digits, \\\n",
    "                                                          test_size=0.3, random_state=53)\n",
    "knn_cl = KNeighborsClassifier()\n",
    "knn_cl.fit(hw_train, res_train)\n",
    "res_test_pred = knn_cl.predict(hw_test)"
   ]
  },
  {
   "cell_type": "code",
   "execution_count": 97,
   "metadata": {},
   "outputs": [
    {
     "data": {
      "text/plain": [
       "0.899581589958159"
      ]
     },
     "execution_count": 97,
     "metadata": {},
     "output_type": "execute_result"
    }
   ],
   "source": [
    "metrics.accuracy_score(res_test, res_test_pred)"
   ]
  },
  {
   "cell_type": "code",
   "execution_count": 98,
   "metadata": {},
   "outputs": [
    {
     "name": "stdout",
     "output_type": "stream",
     "text": [
      "              precision    recall  f1-score   support\n",
      "\n",
      "           0       0.91      1.00      0.95        42\n",
      "           1       0.74      1.00      0.85        39\n",
      "           2       0.90      0.96      0.93        56\n",
      "           3       0.83      0.96      0.89        51\n",
      "           4       1.00      0.92      0.96        50\n",
      "           5       0.86      0.89      0.88        47\n",
      "           6       0.93      0.93      0.93        45\n",
      "           7       0.95      0.86      0.90        44\n",
      "           8       0.98      0.75      0.85        53\n",
      "           9       0.97      0.75      0.84        51\n",
      "\n",
      "   micro avg       0.90      0.90      0.90       478\n",
      "   macro avg       0.91      0.90      0.90       478\n",
      "weighted avg       0.91      0.90      0.90       478\n",
      "\n"
     ]
    }
   ],
   "source": [
    "print(metrics.classification_report(res_test, res_test_pred))"
   ]
  },
  {
   "cell_type": "code",
   "execution_count": 110,
   "metadata": {},
   "outputs": [
    {
     "name": "stderr",
     "output_type": "stream",
     "text": [
      "/usr/local/lib/python3.6/dist-packages/sklearn/model_selection/_search.py:841: DeprecationWarning: The default of the `iid` parameter will change from True to False in version 0.22 and will be removed in 0.24. This will change numeric results when test-set sizes are unequal.\n",
      "  DeprecationWarning)\n"
     ]
    },
    {
     "data": {
      "text/plain": [
       "GridSearchCV(cv=10, error_score='raise-deprecating',\n",
       "       estimator=KNeighborsClassifier(algorithm='auto', leaf_size=30, metric='minkowski',\n",
       "           metric_params=None, n_jobs=None, n_neighbors=5, p=2,\n",
       "           weights='uniform'),\n",
       "       fit_params=None, iid='warn', n_jobs=None,\n",
       "       param_grid={'n_neighbors': range(6, 9), 'weights': ['uniform', 'distance'], 'metric': ['euclidean', 'rogerstanimoto', 'russellrao']},\n",
       "       pre_dispatch='2*n_jobs', refit=True, return_train_score='warn',\n",
       "       scoring='accuracy', verbose=0)"
      ]
     },
     "execution_count": 110,
     "metadata": {},
     "output_type": "execute_result"
    }
   ],
   "source": [
    "knn_params = {'n_neighbors': range(6, 9), \n",
    "              'weights': [\"uniform\", \"distance\"], \n",
    "              'metric': ['euclidean', \"rogerstanimoto\", \"russellrao\"]}\n",
    "knn_grid = GridSearchCV(knn_cl, knn_params, cv=10, scoring='accuracy')\n",
    "knn_grid.fit(hw_train, res_train)"
   ]
  },
  {
   "cell_type": "code",
   "execution_count": 111,
   "metadata": {},
   "outputs": [
    {
     "data": {
      "text/plain": [
       "{'metric': 'rogerstanimoto', 'n_neighbors': 7, 'weights': 'distance'}"
      ]
     },
     "execution_count": 111,
     "metadata": {},
     "output_type": "execute_result"
    }
   ],
   "source": [
    "knn_grid.best_params_"
   ]
  },
  {
   "cell_type": "code",
   "execution_count": 112,
   "metadata": {},
   "outputs": [
    {
     "data": {
      "text/plain": [
       "0.9013452914798207"
      ]
     },
     "execution_count": 112,
     "metadata": {},
     "output_type": "execute_result"
    }
   ],
   "source": [
    "knn_grid.best_score_"
   ]
  },
  {
   "cell_type": "code",
   "execution_count": 113,
   "metadata": {},
   "outputs": [
    {
     "data": {
      "text/plain": [
       "KNeighborsClassifier(algorithm='auto', leaf_size=30, metric='rogerstanimoto',\n",
       "           metric_params=None, n_jobs=None, n_neighbors=7, p=2,\n",
       "           weights='distance')"
      ]
     },
     "execution_count": 113,
     "metadata": {},
     "output_type": "execute_result"
    }
   ],
   "source": [
    "knn_grid.best_estimator_"
   ]
  },
  {
   "cell_type": "code",
   "execution_count": 114,
   "metadata": {},
   "outputs": [],
   "source": [
    "knn_best_param = KNeighborsClassifier(algorithm='auto', leaf_size=30, metric='rogerstanimoto',\n",
    "           metric_params=None, n_jobs=None, n_neighbors=7, p=2,\n",
    "           weights='distance')\n",
    "knn_best_param.fit(hw_train, res_train)\n",
    "res_test_best = knn_best_param.predict(hw_test)"
   ]
  },
  {
   "cell_type": "code",
   "execution_count": 115,
   "metadata": {},
   "outputs": [
    {
     "data": {
      "text/plain": [
       "0.9100418410041841"
      ]
     },
     "execution_count": 115,
     "metadata": {},
     "output_type": "execute_result"
    }
   ],
   "source": [
    "metrics.accuracy_score(res_test, res_test_best)"
   ]
  },
  {
   "cell_type": "code",
   "execution_count": 116,
   "metadata": {},
   "outputs": [
    {
     "name": "stdout",
     "output_type": "stream",
     "text": [
      "              precision    recall  f1-score   support\n",
      "\n",
      "           0       0.95      0.98      0.96        42\n",
      "           1       0.74      1.00      0.85        39\n",
      "           2       0.92      0.96      0.94        56\n",
      "           3       0.84      0.96      0.90        51\n",
      "           4       1.00      0.88      0.94        50\n",
      "           5       0.90      0.94      0.92        47\n",
      "           6       0.96      0.96      0.96        45\n",
      "           7       0.95      0.89      0.92        44\n",
      "           8       0.95      0.79      0.87        53\n",
      "           9       0.95      0.78      0.86        51\n",
      "\n",
      "   micro avg       0.91      0.91      0.91       478\n",
      "   macro avg       0.92      0.91      0.91       478\n",
      "weighted avg       0.92      0.91      0.91       478\n",
      "\n"
     ]
    }
   ],
   "source": [
    "print(metrics.classification_report(res_test, res_test_best))"
   ]
  },
  {
   "cell_type": "code",
   "execution_count": null,
   "metadata": {},
   "outputs": [],
   "source": []
  }
 ],
 "metadata": {
  "kernelspec": {
   "display_name": "Python 3",
   "language": "python",
   "name": "python3"
  },
  "language_info": {
   "codemirror_mode": {
    "name": "ipython",
    "version": 3
   },
   "file_extension": ".py",
   "mimetype": "text/x-python",
   "name": "python",
   "nbconvert_exporter": "python",
   "pygments_lexer": "ipython3",
   "version": "3.6.7"
  }
 },
 "nbformat": 4,
 "nbformat_minor": 2
}
